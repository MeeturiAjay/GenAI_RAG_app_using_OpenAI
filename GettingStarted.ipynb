{
 "cells": [
  {
   "cell_type": "markdown",
   "metadata": {},
   "source": [
    "- Used \"dotenv\" to make OpenAI and Langchain available globally in the script\n",
    "- Langchain API is used to track the \"behind process\" through LangSmith. Else not madatory to use"
   ]
  },
  {
   "cell_type": "code",
   "execution_count": null,
   "metadata": {},
   "outputs": [],
   "source": [
    "import os\n",
    "from dotenv import load_dotenv\n",
    "\n",
    "load_dotenv()\n",
    "\n",
    "# os.environ[\"OPENAI_API_KEY\"] = os.getenv(\"OPENAI_API_KEY\")\n",
    "# os.environ[\"LANGCHAIN_API_KEY\"] = os.getenv(\"LANGCHAIN_API_KEY\")"
   ]
  },
  {
   "cell_type": "markdown",
   "metadata": {},
   "source": [
    "Data Ingestion"
   ]
  },
  {
   "cell_type": "markdown",
   "metadata": {},
   "source": [
    "- Web Scraping is done using \"WebBaseLoader\". Output type -> list(Documents)."
   ]
  },
  {
   "cell_type": "code",
   "execution_count": 3,
   "metadata": {},
   "outputs": [
    {
     "name": "stderr",
     "output_type": "stream",
     "text": [
      "USER_AGENT environment variable not set, consider setting it to identify your requests.\n"
     ]
    },
    {
     "data": {
      "text/plain": [
       "[Document(metadata={'source': 'https://en.wikipedia.org/wiki/LangChain', 'title': 'LangChain - Wikipedia', 'language': 'en'}, page_content='\\n\\n\\n\\nLangChain - Wikipedia\\n\\n\\n\\n\\n\\n\\n\\n\\n\\n\\n\\n\\n\\n\\n\\n\\n\\n\\n\\n\\n\\n\\n\\n\\n\\n\\n\\nJump to content\\n\\n\\n\\n\\n\\n\\n\\nMain menu\\n\\n\\n\\n\\n\\nMain menu\\nmove to sidebar\\nhide\\n\\n\\n\\n\\t\\tNavigation\\n\\t\\n\\n\\nMain pageContentsCurrent eventsRandom articleAbout WikipediaContact us\\n\\n\\n\\n\\n\\n\\t\\tContribute\\n\\t\\n\\n\\nHelpLearn to editCommunity portalRecent changesUpload fileSpecial pages\\n\\n\\n\\n\\n\\n\\n\\n\\n\\n\\n\\n\\n\\n\\n\\n\\n\\n\\n\\nSearch\\n\\n\\n\\n\\n\\n\\n\\n\\n\\n\\n\\nSearch\\n\\n\\n\\n\\n\\n\\n\\n\\n\\n\\n\\n\\n\\n\\n\\n\\n\\n\\n\\n\\n\\n\\nAppearance\\n\\n\\n\\n\\n\\n\\n\\n\\n\\n\\n\\n\\n\\n\\n\\n\\nDonate\\n\\nCreate account\\n\\nLog in\\n\\n\\n\\n\\n\\n\\n\\n\\nPersonal tools\\n\\n\\n\\n\\n\\nDonate Create account Log in\\n\\n\\n\\n\\n\\n\\t\\tPages for logged out editors learn more\\n\\n\\n\\nContributionsTalk\\n\\n\\n\\n\\n\\n\\n\\n\\n\\n\\n\\n\\n\\n\\n\\n\\n\\n\\n\\n\\n\\n\\n\\n\\n\\n\\n\\n\\nContents\\nmove to sidebar\\nhide\\n\\n\\n\\n\\n(Top)\\n\\n\\n\\n\\n\\n1\\nHistory\\n\\n\\n\\n\\n\\n\\n\\n\\n2\\nCapabilities\\n\\n\\n\\n\\n\\n\\n\\n\\n3\\nLangChain tools\\n\\n\\n\\n\\n\\n\\n\\n\\n4\\nReferences\\n\\n\\n\\n\\n\\n\\n\\n\\n5\\nExternal links\\n\\n\\n\\n\\n\\n\\n\\n\\n\\n\\n\\n\\n\\n\\n\\n\\n\\n\\nToggle the table of contents\\n\\n\\n\\n\\n\\n\\n\\nLangChain\\n\\n\\n\\n10 languages\\n\\n\\n\\n\\nCatalàفارسی한국어हिन्दी日本語PortuguêsSimple EnglishไทยTürkçe中文\\n\\nEdit links\\n\\n\\n\\n\\n\\n\\n\\n\\n\\n\\n\\nArticleTalk\\n\\n\\n\\n\\n\\nEnglish\\n\\n\\n\\n\\n\\n\\n\\n\\n\\n\\n\\n\\n\\n\\n\\n\\n\\nReadEditView history\\n\\n\\n\\n\\n\\n\\n\\nTools\\n\\n\\n\\n\\n\\nTools\\nmove to sidebar\\nhide\\n\\n\\n\\n\\t\\tActions\\n\\t\\n\\n\\nReadEditView history\\n\\n\\n\\n\\n\\n\\t\\tGeneral\\n\\t\\n\\n\\nWhat links hereRelated changesUpload filePermanent linkPage informationCite this pageGet shortened URLDownload QR code\\n\\n\\n\\n\\n\\n\\t\\tPrint/export\\n\\t\\n\\n\\nDownload as PDFPrintable version\\n\\n\\n\\n\\n\\n\\t\\tIn other projects\\n\\t\\n\\n\\nWikimedia CommonsWikidata item\\n\\n\\n\\n\\n\\n\\n\\n\\n\\n\\n\\n\\n\\n\\n\\n\\n\\n\\n\\n\\n\\nAppearance\\nmove to sidebar\\nhide\\n\\n\\n\\n\\n\\n\\n\\n\\n\\n\\nFrom Wikipedia, the free encyclopedia\\n\\n\\nLanguage model application development framework\\nLangChainDeveloper(s)Harrison ChaseInitial releaseOctober 2022Stable release0.1.16[1]\\n   / 11 April 2024; 11 months ago\\xa0(11 April 2024)\\nRepositorygithub.com/langchain-ai/langchainWritten inPython and JavaScriptTypeSoftware framework for large language model application developmentLicenseMIT LicenseWebsiteLangChain.com\\nLangChain is a software framework that helps facilitate the integration of large language models (LLMs) into applications. As a language model integration framework, LangChain\\'s use-cases largely overlap with those of language models in general, including document analysis and summarization, chatbots, and code analysis.[2]\\n\\n\\nHistory[edit]\\nLangChain was launched in October 2022 as an open source project by Harrison Chase, while working at machine learning startup Robust Intelligence. The project quickly garnered popularity,[3] with improvements from hundreds of contributors on GitHub, trending discussions on Twitter, lively activity on the project\\'s Discord server, many YouTube tutorials, and meetups in San Francisco and London. In April 2023, LangChain had incorporated and the new startup raised over $20 million in funding at a valuation of at least $200 million from venture firm Sequoia Capital, a week after announcing a $10 million seed investment from Benchmark.[4][5]\\nIn the third quarter of 2023, the LangChain Expression Language (LCEL) was introduced, which provides a declarative way to define chains of actions.[6][7]\\nIn October 2023 LangChain introduced LangServe, a deployment tool to host LCEL code as a production-ready API.[8]\\n\\nCapabilities[edit]\\nLangChain\\'s developers highlight the framework\\'s applicability to use-cases including chatbots,[9] retrieval-augmented generation,[10]  document summarization,[11] and synthetic data generation.[12]\\nAs of March 2023, LangChain included integrations with systems including Amazon, Google, and Microsoft Azure cloud storage;[13] API wrappers for news, movie information, and weather; Bash for summarization, syntax and semantics checking, and execution of shell scripts; multiple web scraping subsystems and templates; few-shot learning prompt generation support; finding and summarizing \"todo\" tasks in code; Google Drive documents, spreadsheets, and presentations summarization, extraction, and creation; Google Search and Microsoft Bing web search;[14] OpenAI, Anthropic, and Hugging Face language models; iFixit repair guides and wikis search and summarization; MapReduce for question answering, combining documents, and question generation; N-gram overlap scoring; PyPDF, pdfminer, fitz, and pymupdf for PDF file text extraction and manipulation; Python and JavaScript code generation, analysis, and debugging; Milvus vector database[15] to store and retrieve vector embeddings; Weaviate vector database[16] to cache embedding and data objects; Redis cache database storage; Python RequestsWrapper and other methods for API requests; SQL and NoSQL databases including JSON support; Streamlit, including for logging; text mapping for k-nearest neighbors search; time zone conversion and calendar operations; tracing and recording stack symbols in threaded and asynchronous subprocess runs; and the Wolfram Alpha website and SDK.[17] As of April 2023, it can read from more than 50 document types and data sources.[18]\\n\\nLangChain tools[edit]\\n\\n\\n\\n\\nTool name\\n\\nAccount required?\\n\\nAPI key required?\\n\\nLicencing\\n\\nFeatures\\n\\nDocumentation URL\\n\\n\\nAlpha  Vantage\\n\\nNo\\n\\nYes\\n\\nProprietary\\n\\nFinancial data, analytics\\n\\nhttps://python.langchain.com/docs/integrations/tools/alpha_vantage\\n\\n\\nApify\\n\\nNo\\n\\nYes\\n\\nCommercial\\n\\nWeb scraping, automation\\n\\nhttps://python.langchain.com/docs/integrations/providers/apify/\\n\\n\\nArXiv\\n\\nNo\\n\\nNo\\n\\nOpen  Source\\n\\nScientific  papers, research\\n\\nhttps://python.langchain.com/docs/integrations/tools/arxiv\\n\\n\\nAWS  Lambda\\n\\nYes\\n\\nYes\\n\\nProprietary\\n\\nServerless  computing\\n\\nhttps://python.langchain.com/docs/integrations/tools/awslambda\\n\\n\\nBash\\n\\nNo\\n\\nNo\\n\\nOpen  source\\n\\nShell environment access\\n\\nhttps://python.langchain.com/docs/integrations/tools/bash\\n\\n\\nBearly Code Interpreter\\n\\nNo\\n\\nYes\\n\\nCommercial\\n\\nRemote Python code execution\\n\\nhttps://python.langchain.com/docs/integrations/tools/bearly\\n\\n\\nBing Search\\n\\nNo\\n\\nYes\\n\\nProprietary\\n\\nSearch engine\\n\\nhttps://python.langchain.com/docs/integrations/tools/bing_search\\n\\n\\nBrave Search\\n\\nNo\\n\\nNo\\n\\nOpen  source\\n\\nPrivacy-focused  search\\n\\nhttps://python.langchain.com/docs/integrations/tools/brave_search\\n\\n\\nChatGPT Plugins\\n\\nNo\\n\\nYes\\n\\nProprietary\\n\\nChatGPT\\n\\nhttps://python.langchain.com/docs/integrations/tools/chatgpt_plugins\\n\\n\\nConnery\\n\\nNo\\n\\nYes\\n\\nCommercial\\n\\nAPI actions\\n\\nhttps://python.langchain.com/docs/integrations/tools/connery\\n\\n\\nDall-E Image Generator\\n\\nNo\\n\\nYes\\n\\nProprietary\\n\\nText-to-image  generation\\n\\nhttps://python.langchain.com/docs/integrations/tools/dalle_image_generator\\n\\n\\nDataForSEO\\n\\nNo\\n\\nYes\\n\\nCommercial\\n\\nSEO data, analytics\\n\\nhttps://python.langchain.com/docs/integrations/tools/dataforseo\\n\\n\\nDuckDuckGo  Search\\n\\nNo\\n\\nNo\\n\\nOpen  source\\n\\nPrivacy-focused search\\n\\nhttps://python.langchain.com/docs/integrations/tools/ddg\\n\\n\\nE2B Data Analysis\\n\\nNo\\n\\nNo\\n\\nOpen  source\\n\\nData analysis\\n\\nhttps://python.langchain.com/docs/integrations/tools/e2b_data_analysis\\n\\n\\nEden AI\\n\\nNo\\n\\nYes\\n\\nCommercial\\n\\nAI tools, APIs\\n\\nhttps://python.langchain.com/docs/integrations/tools/edenai_tools\\n\\n\\nEleven Labs Text2Speech\\n\\nNo\\n\\nYes\\n\\nCommercial\\n\\nText-to-speech\\n\\nhttps://python.langchain.com/docs/integrations/tools/eleven_labs_tts\\n\\n\\nExa Search\\n\\nNo\\n\\nYes\\n\\nCommercial\\n\\nWeb search\\n\\nhttps://python.langchain.com/docs/integrations/tools/exa_search\\n\\n\\nFile System\\n\\nNo\\n\\nNo\\n\\nOpen  source\\n\\nFile system interaction\\n\\nhttps://python.langchain.com/docs/integrations/tools/filesystem\\n\\n\\nGolden Query\\n\\nNo\\n\\nYes\\n\\nCommercial\\n\\nNatural  language queries\\n\\nhttps://python.langchain.com/docs/integrations/tools/golden_query\\n\\n\\nGoogle Cloud Text-to-Speech\\n\\nYes\\n\\nYes\\n\\nProprietary\\n\\nText-to-speech\\n\\nhttps://python.langchain.com/docs/integrations/tools/google_cloud_texttospeech\\n\\n\\nGoogle Drive\\n\\nYes\\n\\nYes\\n\\nProprietary\\n\\nGoogle Drive access\\n\\nhttps://python.langchain.com/docs/integrations/tools/google_drive\\n\\n\\nGoogle Finance\\n\\nYes\\n\\nYes\\n\\nProprietary\\n\\nFinancial data\\n\\nhttps://python.langchain.com/docs/integrations/tools/google_finance\\n\\n\\nGoogle Jobs\\n\\nYes\\n\\nYes\\n\\nProprietary\\n\\nJob search\\n\\nhttps://python.langchain.com/docs/integrations/tools/google_jobs\\n\\n\\nGoogle Lens\\n\\nYes\\n\\nYes\\n\\nProprietary\\n\\nVisual  search, recognition\\n\\nhttps://python.langchain.com/docs/integrations/tools/google_lens\\n\\n\\nGoogle Places\\n\\nYes\\n\\nYes\\n\\nProprietary\\n\\nLocation-based  services\\n\\nhttps://python.langchain.com/docs/integrations/tools/google_places\\n\\n\\nGoogle Scholar\\n\\nYes\\n\\nYes\\n\\nProprietary\\n\\nScholarly  article search\\n\\nhttps://python.langchain.com/docs/integrations/tools/google_scholar\\n\\n\\nGoogle Search\\n\\nYes\\n\\nYes\\n\\nProprietary\\n\\nSearch engine\\n\\nhttps://python.langchain.com/docs/integrations/tools/google_search\\n\\n\\nGoogle Serper\\n\\nNo\\n\\nYes\\n\\nCommercial\\n\\nSERP scraping\\n\\nhttps://python.langchain.com/docs/integrations/tools/google_serper\\n\\n\\nGoogle Trends\\n\\nYes\\n\\nYes\\n\\nProprietary\\n\\nTrend data\\n\\nhttps://python.langchain.com/docs/integrations/tools/google_trends\\n\\n\\nGradio\\n\\nNo\\n\\nNo\\n\\nOpen  source\\n\\nMachine learning UIs\\n\\nhttps://python.langchain.com/docs/integrations/tools/gradio_tools\\n\\n\\nGraphQL\\n\\nNo\\n\\nNo\\n\\nOpen  source\\n\\nAPI queries\\n\\nhttps://python.langchain.com/docs/integrations/tools/graphql\\n\\n\\nHuggingFace  Hub\\n\\nNo\\n\\nNo\\n\\nOpen  source\\n\\nHugging Face models, datasets\\n\\nhttps://python.langchain.com/docs/integrations/tools/huggingface_tools\\n\\n\\nHuman as a tool\\n\\nNo\\n\\nNo\\n\\nN/A\\n\\nHuman input\\n\\nhttps://python.langchain.com/docs/integrations/tools/human_tools\\n\\n\\nIFTTT WebHooks\\n\\nNo\\n\\nYes\\n\\nCommercial\\n\\nWeb service automation\\n\\nhttps://python.langchain.com/docs/integrations/tools/ifttt\\n\\n\\nIonic Shopping\\n\\nNo\\n\\nYes\\n\\nCommercial\\n\\nShopping\\n\\nhttps://python.langchain.com/docs/integrations/tools/ionic_shopping\\n\\n\\nLemon Agent\\n\\nNo\\n\\nYes\\n\\nCommercial\\n\\nLemon AI interaction\\n\\nhttps://python.langchain.com/docs/integrations/tools/lemonai\\n\\n\\nMemorize\\n\\nNo\\n\\nNo\\n\\nOpen  source\\n\\nFine-tune LLM to memorize information using unsupervised learning\\n\\nhttps://python.langchain.com/docs/integrations/tools/memorize\\n\\n\\nNuclia\\n\\nNo\\n\\nYes\\n\\nCommercial\\n\\nIndexing of unstructured data\\n\\nhttps://python.langchain.com/docs/integrations/tools/nuclia\\n\\n\\nOpenWeatherMap\\n\\nNo\\n\\nYes\\n\\nCommercial\\n\\nWeather data\\n\\nhttps://python.langchain.com/docs/integrations/tools/openweathermap\\n\\n\\nPolygon Stock Market API\\n\\nNo\\n\\nYes\\n\\nCommercial\\n\\nStock market data\\n\\nhttps://python.langchain.com/docs/integrations/tools/polygon\\n\\n\\nPubMed\\n\\nNo\\n\\nNo\\n\\nOpen  source\\n\\nBiomedical  literature\\n\\nhttps://python.langchain.com/docs/integrations/tools/pubmed\\n\\n\\nPython REPL\\n\\nNo\\n\\nNo\\n\\nOpen  source\\n\\nPython shell\\n\\nhttps://python.langchain.com/docs/integrations/tools/python\\n\\n\\nReddit Search\\n\\nNo\\n\\nNo\\n\\nOpen  source\\n\\nReddit search\\n\\nhttps://python.langchain.com/docs/integrations/tools/reddit_search\\n\\n\\nRequests\\n\\nNo\\n\\nNo\\n\\nOpen  source\\n\\nHTTP requests\\n\\nhttps://python.langchain.com/docs/integrations/tools/requests\\n\\n\\nSceneXplain\\n\\nNo\\n\\nNo\\n\\nOpen  source\\n\\nModel explanations\\n\\nhttps://python.langchain.com/docs/integrations/tools/sceneXplain\\n\\n\\nSearch\\n\\nNo\\n\\nNo\\n\\nOpen  source\\n\\nQuery various search services\\n\\nhttps://python.langchain.com/docs/integrations/tools/search_tools\\n\\n\\nSearchApi\\n\\nNo\\n\\nYes\\n\\nCommercial\\n\\nQuery various search services\\n\\nhttps://python.langchain.com/docs/integrations/tools/searchapi\\n\\n\\nSearxNG\\n\\nNo\\n\\nNo\\n\\nOpen  source\\n\\nPrivacy-focused  search\\n\\nhttps://python.langchain.com/docs/integrations/tools/searx_search\\n\\n\\nSemantic Scholar API\\n\\nNo\\n\\nNo\\n\\nOpen  source\\n\\nAcademic  paper search\\n\\nhttps://python.langchain.com/docs/integrations/tools/semanticscholar\\n\\n\\nSerpAPI\\n\\nNo\\n\\nYes\\n\\nCommercial\\n\\nSearch engine results page scraping\\n\\nhttps://python.langchain.com/docs/integrations/tools/serpapi\\n\\n\\nStackExchange\\n\\nNo\\n\\nNo\\n\\nOpen  source\\n\\nStack  Exchange access\\n\\nhttps://python.langchain.com/docs/integrations/tools/stackexchange\\n\\n\\nTavily Search\\n\\nNo\\n\\nYes\\n\\nCommercial\\n\\nQuestion  answering\\n\\nhttps://python.langchain.com/docs/integrations/tools/tavily_search\\n\\n\\nTwilio\\n\\nNo\\n\\nYes\\n\\nCommercial\\n\\nCommunication  APIs\\n\\nhttps://python.langchain.com/docs/integrations/tools/twilio\\n\\n\\nWikidata\\n\\nNo\\n\\nNo\\n\\nOpen  source\\n\\nStructured  data access\\n\\nhttps://python.langchain.com/docs/integrations/tools/wikidata\\n\\n\\nWikipedia\\n\\nNo\\n\\nNo\\n\\nOpen  source\\n\\nWikipedia  access\\n\\nhttps://python.langchain.com/docs/integrations/tools/wikipedia\\n\\n\\nWolfram Alpha\\n\\nNo\\n\\nYes\\n\\nProprietary\\n\\nComputational  knowledge\\n\\nhttps://python.langchain.com/docs/integrations/tools/wolfram_alpha\\n\\n\\nYahoo Finance News\\n\\nNo\\n\\nYes\\n\\nCommercial\\n\\nFinancial news\\n\\nhttps://python.langchain.com/docs/integrations/tools/yahoo_finance_news\\n\\n\\nYoutube\\n\\nNo\\n\\nYes\\n\\nCommercial\\n\\nYouTube  access\\n\\nhttps://python.langchain.com/docs/integrations/tools/youtube\\n\\n\\nZapier Natural Language Actions\\n\\nNo\\n\\nYes\\n\\nCommercial\\n\\nWorkflow  automation\\n\\nhttps://python.langchain.com/docs/integrations/tools/zapier\\n\\nReferences[edit]\\n\\n\\n^ \"Release 0.1.16\". 11 April 2024. Retrieved 23 April 2024.\\n\\n^ Buniatyan, Davit (2023). \"Code Understanding Using LangChain\". Activeloop.\\n\\n^ Auffarth, Ben (2023). Generative AI with LangChain. Birmingham: Packt Publishing. p.\\xa083. ISBN\\xa09781835083468.\\n\\n^ Palazzolo, Stephanie (2023-04-13). \"AI startup LangChain taps Sequoia to lead funding round at a valuation of at least $200 million\". Business Insider. Archived from the original on 2023-04-18. Retrieved 2023-04-18.\\n\\n^ Griffith, Erin; Metz, Cade (2023-03-14). \"\\'Let 1,000 Flowers Bloom\\': A.I. Funding Frenzy Escalates\". The New York Times. ISSN\\xa00362-4331. Archived from the original on 2023-04-18. Retrieved 2023-04-18.\\n\\n^ Mansurova, Mariya (2023-10-30). \"Topic Modelling in production: Leveraging LangChain to move from ad-hoc Jupyter Notebooks to production modular service\". towardsdatascience.com. Retrieved 2024-07-08.\\n\\n^ \"LangChain Expression Language\". langchain.dev. 2023-08-01. Retrieved 2024-07-08.\\n\\n^ \"Introducing LangServe, the best way to deploy your LangChains\". LangChain Blog. 2023-10-12. Retrieved 2023-10-17.\\n\\n^ \"Chatbots | 🦜️🔗 Langchain\". python.langchain.com. Retrieved 2023-11-26.\\n\\n^ \"Retrieval-augmented generation (RAG) | 🦜️🔗 Langchain\". python.langchain.com. Retrieved 2023-11-26.\\n\\n^ \"Summarization | 🦜️🔗 Langchain\". python.langchain.com. Retrieved 2023-11-26.\\n\\n^ \"Synthetic data generation | 🦜️🔗 Langchain\". python.langchain.com. Retrieved 2023-11-26.\\n\\n^ \"Azure Cognitive Search and LangChain: A Seamless Integration for Enhanced Vector Search Capabilities\". TECHCOMMUNITY.MICROSOFT.COM. Retrieved 2024-08-31.\\n\\n^ \"Best Alternative AI Content Strategies and LLM Frameworks\". Medium. 2024-08-31. Retrieved 2024-08-31.\\n\\n^ \"Milvus — LangChain\". python.langchain.com. Retrieved 2023-10-29.\\n\\n^ \"Weaviate\". python.langchain.com. Retrieved 2024-01-17.\\n\\n^ Hug, Daniel Patrick (2023-03-08). \"Hierarchical topic tree of LangChain\\'s integrations\" (PDF). GitHub. Archived from the original on 2023-04-29. Retrieved 2023-04-18.\\n\\n^ \"Document Loaders — LangChain 0.0.142\". python.langchain.com. Archived from the original on 2023-04-18. Retrieved 2023-04-18.\\n\\n\\nExternal links[edit]\\n\\n\\nLangChain  at Wikipedia\\'s sister projects\\n\\nMedia from CommonsData from Wikidata\\n\\nOfficial website\\nDiscord server support hub\\nLangchain-ai on GitHub\\nvteOpenAIProductsChatbots\\nChatGPT\\nin education\\nGPT Store\\nDALL-E\\nSearchGPT\\nSora\\nWhisper\\nGitHub Copilot\\nFoundation models\\nOpenAI Codex\\nGenerative pre-trained transformer\\nGPT-1\\nGPT-2\\nGPT-3\\nGPT-4\\nGPT-4o\\nGPT-4.5\\no1\\no3\\nAI agents\\nDeep Research\\nOperator\\nPeopleSenior managementCurrent\\nSam Altman\\nremoval\\nGreg Brockman\\nSarah Friar\\nScott Schools\\nFormer\\nMira Murati\\nEmmett Shear\\nBoard of directorsCurrent\\nSam Altman\\nAdam D\\'Angelo\\nSue Desmond-Hellmann\\nPaul Nakasone\\nAdebayo Ogunlesi\\nNicole Seligman\\nFidji Simo\\nLawrence Summers\\nBret Taylor (chair)\\nJakub Pachocki (chief scientist)\\nFormer\\nGreg Brockman (2017–2023)\\nReid Hoffman (2019–2023)\\nWill Hurd (2021–2023)\\nHolden Karnofsky (2017–2021)\\nElon Musk (2015–2018)\\nIlya Sutskever (2017–2023)\\nHelen Toner (2021–2023)\\nShivon Zilis (2019–2023)\\nJoint ventures\\nStargate LLC\\nRelated\\nApple Intelligence\\nAI Dungeon\\nAutoGPT\\n\"Deep Learning\"\\nLangChain\\nMicrosoft Copilot\\nOpenAI Five\\nTransformer\\n\\n Category\\n\\nvteDifferentiable computingGeneral\\nDifferentiable programming\\nInformation geometry\\nStatistical manifold\\nAutomatic differentiation\\nNeuromorphic computing\\nPattern recognition\\nRicci calculus\\nComputational learning theory\\nInductive bias\\nHardware\\nIPU\\nTPU\\nVPU\\nMemristor\\nSpiNNaker\\nSoftware libraries\\nTensorFlow\\nPyTorch\\nKeras\\nscikit-learn\\nTheano\\nJAX\\nFlux.jl\\nMindSpore\\n\\n Portals\\nComputer programming\\nTechnology\\n\\n\\n\\n\\n\\nRetrieved from \"https://en.wikipedia.org/w/index.php?title=LangChain&oldid=1248303543\"\\nCategories: Artificial intelligenceLarge language modelsSoftware frameworks2022 softwareHidden categories: Articles with short descriptionShort description matches WikidataPages using Sister project links with hidden wikidata\\n\\n\\n\\n\\n\\n\\n This page was last edited on 28 September 2024, at 19:36\\xa0(UTC).\\nText is available under the Creative Commons Attribution-ShareAlike 4.0 License;\\nadditional terms may apply. By using this site, you agree to the Terms of Use and Privacy Policy. Wikipedia® is a registered trademark of the Wikimedia Foundation, Inc., a non-profit organization.\\n\\n\\nPrivacy policy\\nAbout Wikipedia\\nDisclaimers\\nContact Wikipedia\\nCode of Conduct\\nDevelopers\\nStatistics\\nCookie statement\\nMobile view\\n\\n\\n\\n\\n\\n\\n\\n\\n\\n\\n\\n\\n\\n\\nSearch\\n\\n\\n\\n\\n\\n\\n\\n\\n\\n\\n\\n\\n\\nSearch\\n\\n\\n\\n\\n\\n\\n\\n\\n\\nToggle the table of contents\\n\\n\\n\\n\\n\\n\\n\\nLangChain\\n\\n\\n\\n\\n\\n\\n\\n\\n\\n\\n\\n\\n\\n\\n\\n\\n\\n\\n\\n\\n\\n\\n\\n\\n\\n\\n\\n\\n10 languages\\n\\n\\nAdd topic\\n\\n\\n\\n\\n\\n\\n\\n\\n\\n\\n\\n\\n\\n\\n\\n\\n')]"
      ]
     },
     "execution_count": 3,
     "metadata": {},
     "output_type": "execute_result"
    }
   ],
   "source": [
    "from langchain_community.document_loaders import WebBaseLoader\n",
    "loader = WebBaseLoader(web_path = \"https://en.wikipedia.org/wiki/LangChain\")\n",
    "docs = loader.load()\n",
    "docs"
   ]
  },
  {
   "cell_type": "markdown",
   "metadata": {},
   "source": [
    "Text Splitting"
   ]
  },
  {
   "cell_type": "code",
   "execution_count": null,
   "metadata": {},
   "outputs": [
    {
     "data": {
      "text/plain": [
       "[Document(metadata={'source': 'https://en.wikipedia.org/wiki/LangChain', 'title': 'LangChain - Wikipedia', 'language': 'en'}, page_content='LangChain - Wikipedia\\n\\n\\n\\n\\n\\n\\n\\n\\n\\n\\n\\n\\n\\n\\n\\n\\n\\n\\n\\n\\n\\n\\n\\n\\n\\n\\n\\nJump to content\\n\\n\\n\\n\\n\\n\\n\\nMain menu\\n\\n\\n\\n\\n\\nMain menu\\nmove to sidebar\\nhide\\n\\n\\n\\n\\t\\tNavigation'),\n",
       " Document(metadata={'source': 'https://en.wikipedia.org/wiki/LangChain', 'title': 'LangChain - Wikipedia', 'language': 'en'}, page_content='Main menu\\nmove to sidebar\\nhide\\n\\n\\n\\n\\t\\tNavigation\\n\\t\\n\\n\\nMain pageContentsCurrent eventsRandom articleAbout WikipediaContact us\\n\\n\\n\\n\\n\\n\\t\\tContribute'),\n",
       " Document(metadata={'source': 'https://en.wikipedia.org/wiki/LangChain', 'title': 'LangChain - Wikipedia', 'language': 'en'}, page_content='Contribute\\n\\t\\n\\n\\nHelpLearn to editCommunity portalRecent changesUpload fileSpecial pages\\n\\n\\n\\n\\n\\n\\n\\n\\n\\n\\n\\n\\n\\n\\n\\n\\n\\n\\n\\nSearch\\n\\n\\n\\n\\n\\n\\n\\n\\n\\n\\n\\nSearch\\n\\n\\n\\n\\n\\n\\n\\n\\n\\n\\n\\n\\n\\n\\n\\n\\n\\n\\n\\n\\n\\n\\nAppearance\\n\\n\\n\\n\\n\\n\\n\\n\\n\\n\\n\\n\\n\\n\\n\\n\\nDonate'),\n",
       " Document(metadata={'source': 'https://en.wikipedia.org/wiki/LangChain', 'title': 'LangChain - Wikipedia', 'language': 'en'}, page_content='Appearance\\n\\n\\n\\n\\n\\n\\n\\n\\n\\n\\n\\n\\n\\n\\n\\n\\nDonate\\n\\nCreate account\\n\\nLog in\\n\\n\\n\\n\\n\\n\\n\\n\\nPersonal tools\\n\\n\\n\\n\\n\\nDonate Create account Log in\\n\\n\\n\\n\\n\\n\\t\\tPages for logged out editors learn more\\n\\n\\n\\nContributionsTalk'),\n",
       " Document(metadata={'source': 'https://en.wikipedia.org/wiki/LangChain', 'title': 'LangChain - Wikipedia', 'language': 'en'}, page_content='ContributionsTalk\\n\\n\\n\\n\\n\\n\\n\\n\\n\\n\\n\\n\\n\\n\\n\\n\\n\\n\\n\\n\\n\\n\\n\\n\\n\\n\\n\\n\\nContents\\nmove to sidebar\\nhide\\n\\n\\n\\n\\n(Top)\\n\\n\\n\\n\\n\\n1\\nHistory\\n\\n\\n\\n\\n\\n\\n\\n\\n2\\nCapabilities\\n\\n\\n\\n\\n\\n\\n\\n\\n3\\nLangChain tools\\n\\n\\n\\n\\n\\n\\n\\n\\n4\\nReferences\\n\\n\\n\\n\\n\\n\\n\\n\\n5\\nExternal links'),\n",
       " Document(metadata={'source': 'https://en.wikipedia.org/wiki/LangChain', 'title': 'LangChain - Wikipedia', 'language': 'en'}, page_content='4\\nReferences\\n\\n\\n\\n\\n\\n\\n\\n\\n5\\nExternal links\\n\\n\\n\\n\\n\\n\\n\\n\\n\\n\\n\\n\\n\\n\\n\\n\\n\\n\\nToggle the table of contents\\n\\n\\n\\n\\n\\n\\n\\nLangChain\\n\\n\\n\\n10 languages\\n\\n\\n\\n\\nCatalàفارسی한국어हिन्दी日本語PortuguêsSimple EnglishไทยTürkçe中文\\n\\nEdit links'),\n",
       " Document(metadata={'source': 'https://en.wikipedia.org/wiki/LangChain', 'title': 'LangChain - Wikipedia', 'language': 'en'}, page_content='Edit links\\n\\n\\n\\n\\n\\n\\n\\n\\n\\n\\n\\nArticleTalk\\n\\n\\n\\n\\n\\nEnglish\\n\\n\\n\\n\\n\\n\\n\\n\\n\\n\\n\\n\\n\\n\\n\\n\\n\\nReadEditView history\\n\\n\\n\\n\\n\\n\\n\\nTools\\n\\n\\n\\n\\n\\nTools\\nmove to sidebar\\nhide\\n\\n\\n\\n\\t\\tActions\\n\\t\\n\\n\\nReadEditView history\\n\\n\\n\\n\\n\\n\\t\\tGeneral'),\n",
       " Document(metadata={'source': 'https://en.wikipedia.org/wiki/LangChain', 'title': 'LangChain - Wikipedia', 'language': 'en'}, page_content='ReadEditView history\\n\\n\\n\\n\\n\\n\\t\\tGeneral\\n\\t\\n\\n\\nWhat links hereRelated changesUpload filePermanent linkPage informationCite this pageGet shortened URLDownload QR code\\n\\n\\n\\n\\n\\n\\t\\tPrint/export'),\n",
       " Document(metadata={'source': 'https://en.wikipedia.org/wiki/LangChain', 'title': 'LangChain - Wikipedia', 'language': 'en'}, page_content='Print/export\\n\\t\\n\\n\\nDownload as PDFPrintable version\\n\\n\\n\\n\\n\\n\\t\\tIn other projects\\n\\t\\n\\n\\nWikimedia CommonsWikidata item\\n\\n\\n\\n\\n\\n\\n\\n\\n\\n\\n\\n\\n\\n\\n\\n\\n\\n\\n\\n\\n\\nAppearance\\nmove to sidebar\\nhide'),\n",
       " Document(metadata={'source': 'https://en.wikipedia.org/wiki/LangChain', 'title': 'LangChain - Wikipedia', 'language': 'en'}, page_content='Appearance\\nmove to sidebar\\nhide\\n\\n\\n\\n\\n\\n\\n\\n\\n\\n\\nFrom Wikipedia, the free encyclopedia'),\n",
       " Document(metadata={'source': 'https://en.wikipedia.org/wiki/LangChain', 'title': 'LangChain - Wikipedia', 'language': 'en'}, page_content='Language model application development framework\\nLangChainDeveloper(s)Harrison ChaseInitial releaseOctober 2022Stable release0.1.16[1]\\n   / 11 April 2024; 11 months ago\\xa0(11 April 2024)'),\n",
       " Document(metadata={'source': 'https://en.wikipedia.org/wiki/LangChain', 'title': 'LangChain - Wikipedia', 'language': 'en'}, page_content='Repositorygithub.com/langchain-ai/langchainWritten inPython and JavaScriptTypeSoftware framework for large language model application developmentLicenseMIT LicenseWebsiteLangChain.com'),\n",
       " Document(metadata={'source': 'https://en.wikipedia.org/wiki/LangChain', 'title': 'LangChain - Wikipedia', 'language': 'en'}, page_content=\"LangChain is a software framework that helps facilitate the integration of large language models (LLMs) into applications. As a language model integration framework, LangChain's use-cases largely\"),\n",
       " Document(metadata={'source': 'https://en.wikipedia.org/wiki/LangChain', 'title': 'LangChain - Wikipedia', 'language': 'en'}, page_content=\"framework, LangChain's use-cases largely overlap with those of language models in general, including document analysis and summarization, chatbots, and code analysis.[2]\"),\n",
       " Document(metadata={'source': 'https://en.wikipedia.org/wiki/LangChain', 'title': 'LangChain - Wikipedia', 'language': 'en'}, page_content='History[edit]'),\n",
       " Document(metadata={'source': 'https://en.wikipedia.org/wiki/LangChain', 'title': 'LangChain - Wikipedia', 'language': 'en'}, page_content='LangChain was launched in October 2022 as an open source project by Harrison Chase, while working at machine learning startup Robust Intelligence. The project quickly garnered popularity,[3] with'),\n",
       " Document(metadata={'source': 'https://en.wikipedia.org/wiki/LangChain', 'title': 'LangChain - Wikipedia', 'language': 'en'}, page_content=\"The project quickly garnered popularity,[3] with improvements from hundreds of contributors on GitHub, trending discussions on Twitter, lively activity on the project's Discord server, many YouTube\"),\n",
       " Document(metadata={'source': 'https://en.wikipedia.org/wiki/LangChain', 'title': 'LangChain - Wikipedia', 'language': 'en'}, page_content=\"on the project's Discord server, many YouTube tutorials, and meetups in San Francisco and London. In April 2023, LangChain had incorporated and the new startup raised over $20 million in funding at a\"),\n",
       " Document(metadata={'source': 'https://en.wikipedia.org/wiki/LangChain', 'title': 'LangChain - Wikipedia', 'language': 'en'}, page_content='startup raised over $20 million in funding at a valuation of at least $200 million from venture firm Sequoia Capital, a week after announcing a $10 million seed investment from Benchmark.[4][5]'),\n",
       " Document(metadata={'source': 'https://en.wikipedia.org/wiki/LangChain', 'title': 'LangChain - Wikipedia', 'language': 'en'}, page_content='In the third quarter of 2023, the LangChain Expression Language (LCEL) was introduced, which provides a declarative way to define chains of actions.[6][7]'),\n",
       " Document(metadata={'source': 'https://en.wikipedia.org/wiki/LangChain', 'title': 'LangChain - Wikipedia', 'language': 'en'}, page_content='In October 2023 LangChain introduced LangServe, a deployment tool to host LCEL code as a production-ready API.[8]'),\n",
       " Document(metadata={'source': 'https://en.wikipedia.org/wiki/LangChain', 'title': 'LangChain - Wikipedia', 'language': 'en'}, page_content='Capabilities[edit]'),\n",
       " Document(metadata={'source': 'https://en.wikipedia.org/wiki/LangChain', 'title': 'LangChain - Wikipedia', 'language': 'en'}, page_content=\"LangChain's developers highlight the framework's applicability to use-cases including chatbots,[9] retrieval-augmented generation,[10]  document summarization,[11] and synthetic data generation.[12]\"),\n",
       " Document(metadata={'source': 'https://en.wikipedia.org/wiki/LangChain', 'title': 'LangChain - Wikipedia', 'language': 'en'}, page_content='As of March 2023, LangChain included integrations with systems including Amazon, Google, and Microsoft Azure cloud storage;[13] API wrappers for news, movie information, and weather; Bash for'),\n",
       " Document(metadata={'source': 'https://en.wikipedia.org/wiki/LangChain', 'title': 'LangChain - Wikipedia', 'language': 'en'}, page_content='news, movie information, and weather; Bash for summarization, syntax and semantics checking, and execution of shell scripts; multiple web scraping subsystems and templates; few-shot learning prompt'),\n",
       " Document(metadata={'source': 'https://en.wikipedia.org/wiki/LangChain', 'title': 'LangChain - Wikipedia', 'language': 'en'}, page_content='and templates; few-shot learning prompt generation support; finding and summarizing \"todo\" tasks in code; Google Drive documents, spreadsheets, and presentations summarization, extraction, and'),\n",
       " Document(metadata={'source': 'https://en.wikipedia.org/wiki/LangChain', 'title': 'LangChain - Wikipedia', 'language': 'en'}, page_content='and presentations summarization, extraction, and creation; Google Search and Microsoft Bing web search;[14] OpenAI, Anthropic, and Hugging Face language models; iFixit repair guides and wikis search'),\n",
       " Document(metadata={'source': 'https://en.wikipedia.org/wiki/LangChain', 'title': 'LangChain - Wikipedia', 'language': 'en'}, page_content='models; iFixit repair guides and wikis search and summarization; MapReduce for question answering, combining documents, and question generation; N-gram overlap scoring; PyPDF, pdfminer, fitz, and'),\n",
       " Document(metadata={'source': 'https://en.wikipedia.org/wiki/LangChain', 'title': 'LangChain - Wikipedia', 'language': 'en'}, page_content='overlap scoring; PyPDF, pdfminer, fitz, and pymupdf for PDF file text extraction and manipulation; Python and JavaScript code generation, analysis, and debugging; Milvus vector database[15] to store'),\n",
       " Document(metadata={'source': 'https://en.wikipedia.org/wiki/LangChain', 'title': 'LangChain - Wikipedia', 'language': 'en'}, page_content='debugging; Milvus vector database[15] to store and retrieve vector embeddings; Weaviate vector database[16] to cache embedding and data objects; Redis cache database storage; Python RequestsWrapper'),\n",
       " Document(metadata={'source': 'https://en.wikipedia.org/wiki/LangChain', 'title': 'LangChain - Wikipedia', 'language': 'en'}, page_content='cache database storage; Python RequestsWrapper and other methods for API requests; SQL and NoSQL databases including JSON support; Streamlit, including for logging; text mapping for k-nearest'),\n",
       " Document(metadata={'source': 'https://en.wikipedia.org/wiki/LangChain', 'title': 'LangChain - Wikipedia', 'language': 'en'}, page_content='including for logging; text mapping for k-nearest neighbors search; time zone conversion and calendar operations; tracing and recording stack symbols in threaded and asynchronous subprocess runs; and'),\n",
       " Document(metadata={'source': 'https://en.wikipedia.org/wiki/LangChain', 'title': 'LangChain - Wikipedia', 'language': 'en'}, page_content='in threaded and asynchronous subprocess runs; and the Wolfram Alpha website and SDK.[17] As of April 2023, it can read from more than 50 document types and data sources.[18]'),\n",
       " Document(metadata={'source': 'https://en.wikipedia.org/wiki/LangChain', 'title': 'LangChain - Wikipedia', 'language': 'en'}, page_content='LangChain tools[edit]\\n\\n\\n\\n\\nTool name\\n\\nAccount required?\\n\\nAPI key required?\\n\\nLicencing\\n\\nFeatures\\n\\nDocumentation URL\\n\\n\\nAlpha  Vantage\\n\\nNo\\n\\nYes\\n\\nProprietary\\n\\nFinancial data, analytics'),\n",
       " Document(metadata={'source': 'https://en.wikipedia.org/wiki/LangChain', 'title': 'LangChain - Wikipedia', 'language': 'en'}, page_content='No\\n\\nYes\\n\\nProprietary\\n\\nFinancial data, analytics\\n\\nhttps://python.langchain.com/docs/integrations/tools/alpha_vantage\\n\\n\\nApify\\n\\nNo\\n\\nYes\\n\\nCommercial\\n\\nWeb scraping, automation'),\n",
       " Document(metadata={'source': 'https://en.wikipedia.org/wiki/LangChain', 'title': 'LangChain - Wikipedia', 'language': 'en'}, page_content='No\\n\\nYes\\n\\nCommercial\\n\\nWeb scraping, automation\\n\\nhttps://python.langchain.com/docs/integrations/providers/apify/\\n\\n\\nArXiv\\n\\nNo\\n\\nNo\\n\\nOpen  Source\\n\\nScientific  papers, research'),\n",
       " Document(metadata={'source': 'https://en.wikipedia.org/wiki/LangChain', 'title': 'LangChain - Wikipedia', 'language': 'en'}, page_content='No\\n\\nOpen  Source\\n\\nScientific  papers, research\\n\\nhttps://python.langchain.com/docs/integrations/tools/arxiv\\n\\n\\nAWS  Lambda\\n\\nYes\\n\\nYes\\n\\nProprietary\\n\\nServerless  computing'),\n",
       " Document(metadata={'source': 'https://en.wikipedia.org/wiki/LangChain', 'title': 'LangChain - Wikipedia', 'language': 'en'}, page_content='Yes\\n\\nYes\\n\\nProprietary\\n\\nServerless  computing\\n\\nhttps://python.langchain.com/docs/integrations/tools/awslambda\\n\\n\\nBash\\n\\nNo\\n\\nNo\\n\\nOpen  source\\n\\nShell environment access'),\n",
       " Document(metadata={'source': 'https://en.wikipedia.org/wiki/LangChain', 'title': 'LangChain - Wikipedia', 'language': 'en'}, page_content='No\\n\\nNo\\n\\nOpen  source\\n\\nShell environment access\\n\\nhttps://python.langchain.com/docs/integrations/tools/bash\\n\\n\\nBearly Code Interpreter\\n\\nNo\\n\\nYes\\n\\nCommercial\\n\\nRemote Python code execution'),\n",
       " Document(metadata={'source': 'https://en.wikipedia.org/wiki/LangChain', 'title': 'LangChain - Wikipedia', 'language': 'en'}, page_content='Yes\\n\\nCommercial\\n\\nRemote Python code execution\\n\\nhttps://python.langchain.com/docs/integrations/tools/bearly\\n\\n\\nBing Search\\n\\nNo\\n\\nYes\\n\\nProprietary\\n\\nSearch engine'),\n",
       " Document(metadata={'source': 'https://en.wikipedia.org/wiki/LangChain', 'title': 'LangChain - Wikipedia', 'language': 'en'}, page_content='No\\n\\nYes\\n\\nProprietary\\n\\nSearch engine\\n\\nhttps://python.langchain.com/docs/integrations/tools/bing_search\\n\\n\\nBrave Search\\n\\nNo\\n\\nNo\\n\\nOpen  source\\n\\nPrivacy-focused  search'),\n",
       " Document(metadata={'source': 'https://en.wikipedia.org/wiki/LangChain', 'title': 'LangChain - Wikipedia', 'language': 'en'}, page_content='No\\n\\nNo\\n\\nOpen  source\\n\\nPrivacy-focused  search\\n\\nhttps://python.langchain.com/docs/integrations/tools/brave_search\\n\\n\\nChatGPT Plugins\\n\\nNo\\n\\nYes\\n\\nProprietary\\n\\nChatGPT'),\n",
       " Document(metadata={'source': 'https://en.wikipedia.org/wiki/LangChain', 'title': 'LangChain - Wikipedia', 'language': 'en'}, page_content='ChatGPT Plugins\\n\\nNo\\n\\nYes\\n\\nProprietary\\n\\nChatGPT\\n\\nhttps://python.langchain.com/docs/integrations/tools/chatgpt_plugins\\n\\n\\nConnery\\n\\nNo\\n\\nYes\\n\\nCommercial\\n\\nAPI actions'),\n",
       " Document(metadata={'source': 'https://en.wikipedia.org/wiki/LangChain', 'title': 'LangChain - Wikipedia', 'language': 'en'}, page_content='Connery\\n\\nNo\\n\\nYes\\n\\nCommercial\\n\\nAPI actions\\n\\nhttps://python.langchain.com/docs/integrations/tools/connery\\n\\n\\nDall-E Image Generator\\n\\nNo\\n\\nYes\\n\\nProprietary\\n\\nText-to-image  generation'),\n",
       " Document(metadata={'source': 'https://en.wikipedia.org/wiki/LangChain', 'title': 'LangChain - Wikipedia', 'language': 'en'}, page_content='No\\n\\nYes\\n\\nProprietary\\n\\nText-to-image  generation\\n\\nhttps://python.langchain.com/docs/integrations/tools/dalle_image_generator\\n\\n\\nDataForSEO\\n\\nNo\\n\\nYes\\n\\nCommercial\\n\\nSEO data, analytics'),\n",
       " Document(metadata={'source': 'https://en.wikipedia.org/wiki/LangChain', 'title': 'LangChain - Wikipedia', 'language': 'en'}, page_content='No\\n\\nYes\\n\\nCommercial\\n\\nSEO data, analytics\\n\\nhttps://python.langchain.com/docs/integrations/tools/dataforseo\\n\\n\\nDuckDuckGo  Search\\n\\nNo\\n\\nNo\\n\\nOpen  source\\n\\nPrivacy-focused search'),\n",
       " Document(metadata={'source': 'https://en.wikipedia.org/wiki/LangChain', 'title': 'LangChain - Wikipedia', 'language': 'en'}, page_content='No\\n\\nNo\\n\\nOpen  source\\n\\nPrivacy-focused search\\n\\nhttps://python.langchain.com/docs/integrations/tools/ddg\\n\\n\\nE2B Data Analysis\\n\\nNo\\n\\nNo\\n\\nOpen  source\\n\\nData analysis'),\n",
       " Document(metadata={'source': 'https://en.wikipedia.org/wiki/LangChain', 'title': 'LangChain - Wikipedia', 'language': 'en'}, page_content='No\\n\\nNo\\n\\nOpen  source\\n\\nData analysis\\n\\nhttps://python.langchain.com/docs/integrations/tools/e2b_data_analysis\\n\\n\\nEden AI\\n\\nNo\\n\\nYes\\n\\nCommercial\\n\\nAI tools, APIs'),\n",
       " Document(metadata={'source': 'https://en.wikipedia.org/wiki/LangChain', 'title': 'LangChain - Wikipedia', 'language': 'en'}, page_content='Eden AI\\n\\nNo\\n\\nYes\\n\\nCommercial\\n\\nAI tools, APIs\\n\\nhttps://python.langchain.com/docs/integrations/tools/edenai_tools\\n\\n\\nEleven Labs Text2Speech\\n\\nNo\\n\\nYes\\n\\nCommercial\\n\\nText-to-speech'),\n",
       " Document(metadata={'source': 'https://en.wikipedia.org/wiki/LangChain', 'title': 'LangChain - Wikipedia', 'language': 'en'}, page_content='No\\n\\nYes\\n\\nCommercial\\n\\nText-to-speech\\n\\nhttps://python.langchain.com/docs/integrations/tools/eleven_labs_tts\\n\\n\\nExa Search\\n\\nNo\\n\\nYes\\n\\nCommercial\\n\\nWeb search'),\n",
       " Document(metadata={'source': 'https://en.wikipedia.org/wiki/LangChain', 'title': 'LangChain - Wikipedia', 'language': 'en'}, page_content='Exa Search\\n\\nNo\\n\\nYes\\n\\nCommercial\\n\\nWeb search\\n\\nhttps://python.langchain.com/docs/integrations/tools/exa_search\\n\\n\\nFile System\\n\\nNo\\n\\nNo\\n\\nOpen  source\\n\\nFile system interaction'),\n",
       " Document(metadata={'source': 'https://en.wikipedia.org/wiki/LangChain', 'title': 'LangChain - Wikipedia', 'language': 'en'}, page_content='No\\n\\nNo\\n\\nOpen  source\\n\\nFile system interaction\\n\\nhttps://python.langchain.com/docs/integrations/tools/filesystem\\n\\n\\nGolden Query\\n\\nNo\\n\\nYes\\n\\nCommercial\\n\\nNatural  language queries'),\n",
       " Document(metadata={'source': 'https://en.wikipedia.org/wiki/LangChain', 'title': 'LangChain - Wikipedia', 'language': 'en'}, page_content='No\\n\\nYes\\n\\nCommercial\\n\\nNatural  language queries\\n\\nhttps://python.langchain.com/docs/integrations/tools/golden_query\\n\\n\\nGoogle Cloud Text-to-Speech\\n\\nYes\\n\\nYes\\n\\nProprietary\\n\\nText-to-speech'),\n",
       " Document(metadata={'source': 'https://en.wikipedia.org/wiki/LangChain', 'title': 'LangChain - Wikipedia', 'language': 'en'}, page_content='Yes\\n\\nYes\\n\\nProprietary\\n\\nText-to-speech\\n\\nhttps://python.langchain.com/docs/integrations/tools/google_cloud_texttospeech\\n\\n\\nGoogle Drive\\n\\nYes\\n\\nYes\\n\\nProprietary\\n\\nGoogle Drive access'),\n",
       " Document(metadata={'source': 'https://en.wikipedia.org/wiki/LangChain', 'title': 'LangChain - Wikipedia', 'language': 'en'}, page_content='Yes\\n\\nYes\\n\\nProprietary\\n\\nGoogle Drive access\\n\\nhttps://python.langchain.com/docs/integrations/tools/google_drive\\n\\n\\nGoogle Finance\\n\\nYes\\n\\nYes\\n\\nProprietary\\n\\nFinancial data'),\n",
       " Document(metadata={'source': 'https://en.wikipedia.org/wiki/LangChain', 'title': 'LangChain - Wikipedia', 'language': 'en'}, page_content='Yes\\n\\nYes\\n\\nProprietary\\n\\nFinancial data\\n\\nhttps://python.langchain.com/docs/integrations/tools/google_finance\\n\\n\\nGoogle Jobs\\n\\nYes\\n\\nYes\\n\\nProprietary\\n\\nJob search'),\n",
       " Document(metadata={'source': 'https://en.wikipedia.org/wiki/LangChain', 'title': 'LangChain - Wikipedia', 'language': 'en'}, page_content='Google Jobs\\n\\nYes\\n\\nYes\\n\\nProprietary\\n\\nJob search\\n\\nhttps://python.langchain.com/docs/integrations/tools/google_jobs\\n\\n\\nGoogle Lens\\n\\nYes\\n\\nYes\\n\\nProprietary\\n\\nVisual  search, recognition'),\n",
       " Document(metadata={'source': 'https://en.wikipedia.org/wiki/LangChain', 'title': 'LangChain - Wikipedia', 'language': 'en'}, page_content='Yes\\n\\nProprietary\\n\\nVisual  search, recognition\\n\\nhttps://python.langchain.com/docs/integrations/tools/google_lens\\n\\n\\nGoogle Places\\n\\nYes\\n\\nYes\\n\\nProprietary\\n\\nLocation-based  services'),\n",
       " Document(metadata={'source': 'https://en.wikipedia.org/wiki/LangChain', 'title': 'LangChain - Wikipedia', 'language': 'en'}, page_content='Yes\\n\\nYes\\n\\nProprietary\\n\\nLocation-based  services\\n\\nhttps://python.langchain.com/docs/integrations/tools/google_places\\n\\n\\nGoogle Scholar\\n\\nYes\\n\\nYes\\n\\nProprietary\\n\\nScholarly  article search'),\n",
       " Document(metadata={'source': 'https://en.wikipedia.org/wiki/LangChain', 'title': 'LangChain - Wikipedia', 'language': 'en'}, page_content='Yes\\n\\nYes\\n\\nProprietary\\n\\nScholarly  article search\\n\\nhttps://python.langchain.com/docs/integrations/tools/google_scholar\\n\\n\\nGoogle Search\\n\\nYes\\n\\nYes\\n\\nProprietary\\n\\nSearch engine'),\n",
       " Document(metadata={'source': 'https://en.wikipedia.org/wiki/LangChain', 'title': 'LangChain - Wikipedia', 'language': 'en'}, page_content='Yes\\n\\nYes\\n\\nProprietary\\n\\nSearch engine\\n\\nhttps://python.langchain.com/docs/integrations/tools/google_search\\n\\n\\nGoogle Serper\\n\\nNo\\n\\nYes\\n\\nCommercial\\n\\nSERP scraping'),\n",
       " Document(metadata={'source': 'https://en.wikipedia.org/wiki/LangChain', 'title': 'LangChain - Wikipedia', 'language': 'en'}, page_content='No\\n\\nYes\\n\\nCommercial\\n\\nSERP scraping\\n\\nhttps://python.langchain.com/docs/integrations/tools/google_serper\\n\\n\\nGoogle Trends\\n\\nYes\\n\\nYes\\n\\nProprietary\\n\\nTrend data'),\n",
       " Document(metadata={'source': 'https://en.wikipedia.org/wiki/LangChain', 'title': 'LangChain - Wikipedia', 'language': 'en'}, page_content='Yes\\n\\nYes\\n\\nProprietary\\n\\nTrend data\\n\\nhttps://python.langchain.com/docs/integrations/tools/google_trends\\n\\n\\nGradio\\n\\nNo\\n\\nNo\\n\\nOpen  source\\n\\nMachine learning UIs'),\n",
       " Document(metadata={'source': 'https://en.wikipedia.org/wiki/LangChain', 'title': 'LangChain - Wikipedia', 'language': 'en'}, page_content='No\\n\\nNo\\n\\nOpen  source\\n\\nMachine learning UIs\\n\\nhttps://python.langchain.com/docs/integrations/tools/gradio_tools\\n\\n\\nGraphQL\\n\\nNo\\n\\nNo\\n\\nOpen  source\\n\\nAPI queries'),\n",
       " Document(metadata={'source': 'https://en.wikipedia.org/wiki/LangChain', 'title': 'LangChain - Wikipedia', 'language': 'en'}, page_content='GraphQL\\n\\nNo\\n\\nNo\\n\\nOpen  source\\n\\nAPI queries\\n\\nhttps://python.langchain.com/docs/integrations/tools/graphql\\n\\n\\nHuggingFace  Hub\\n\\nNo\\n\\nNo\\n\\nOpen  source\\n\\nHugging Face models, datasets'),\n",
       " Document(metadata={'source': 'https://en.wikipedia.org/wiki/LangChain', 'title': 'LangChain - Wikipedia', 'language': 'en'}, page_content='No\\n\\nOpen  source\\n\\nHugging Face models, datasets\\n\\nhttps://python.langchain.com/docs/integrations/tools/huggingface_tools\\n\\n\\nHuman as a tool\\n\\nNo\\n\\nNo\\n\\nN/A\\n\\nHuman input'),\n",
       " Document(metadata={'source': 'https://en.wikipedia.org/wiki/LangChain', 'title': 'LangChain - Wikipedia', 'language': 'en'}, page_content='Human as a tool\\n\\nNo\\n\\nNo\\n\\nN/A\\n\\nHuman input\\n\\nhttps://python.langchain.com/docs/integrations/tools/human_tools\\n\\n\\nIFTTT WebHooks\\n\\nNo\\n\\nYes\\n\\nCommercial\\n\\nWeb service automation'),\n",
       " Document(metadata={'source': 'https://en.wikipedia.org/wiki/LangChain', 'title': 'LangChain - Wikipedia', 'language': 'en'}, page_content='No\\n\\nYes\\n\\nCommercial\\n\\nWeb service automation\\n\\nhttps://python.langchain.com/docs/integrations/tools/ifttt\\n\\n\\nIonic Shopping\\n\\nNo\\n\\nYes\\n\\nCommercial\\n\\nShopping'),\n",
       " Document(metadata={'source': 'https://en.wikipedia.org/wiki/LangChain', 'title': 'LangChain - Wikipedia', 'language': 'en'}, page_content='Ionic Shopping\\n\\nNo\\n\\nYes\\n\\nCommercial\\n\\nShopping\\n\\nhttps://python.langchain.com/docs/integrations/tools/ionic_shopping\\n\\n\\nLemon Agent\\n\\nNo\\n\\nYes\\n\\nCommercial\\n\\nLemon AI interaction'),\n",
       " Document(metadata={'source': 'https://en.wikipedia.org/wiki/LangChain', 'title': 'LangChain - Wikipedia', 'language': 'en'}, page_content='No\\n\\nYes\\n\\nCommercial\\n\\nLemon AI interaction\\n\\nhttps://python.langchain.com/docs/integrations/tools/lemonai\\n\\n\\nMemorize\\n\\nNo\\n\\nNo\\n\\nOpen  source'),\n",
       " Document(metadata={'source': 'https://en.wikipedia.org/wiki/LangChain', 'title': 'LangChain - Wikipedia', 'language': 'en'}, page_content='Memorize\\n\\nNo\\n\\nNo\\n\\nOpen  source\\n\\nFine-tune LLM to memorize information using unsupervised learning\\n\\nhttps://python.langchain.com/docs/integrations/tools/memorize\\n\\n\\nNuclia\\n\\nNo\\n\\nYes\\n\\nCommercial'),\n",
       " Document(metadata={'source': 'https://en.wikipedia.org/wiki/LangChain', 'title': 'LangChain - Wikipedia', 'language': 'en'}, page_content='Nuclia\\n\\nNo\\n\\nYes\\n\\nCommercial\\n\\nIndexing of unstructured data\\n\\nhttps://python.langchain.com/docs/integrations/tools/nuclia\\n\\n\\nOpenWeatherMap\\n\\nNo\\n\\nYes\\n\\nCommercial\\n\\nWeather data'),\n",
       " Document(metadata={'source': 'https://en.wikipedia.org/wiki/LangChain', 'title': 'LangChain - Wikipedia', 'language': 'en'}, page_content='No\\n\\nYes\\n\\nCommercial\\n\\nWeather data\\n\\nhttps://python.langchain.com/docs/integrations/tools/openweathermap\\n\\n\\nPolygon Stock Market API\\n\\nNo\\n\\nYes\\n\\nCommercial\\n\\nStock market data'),\n",
       " Document(metadata={'source': 'https://en.wikipedia.org/wiki/LangChain', 'title': 'LangChain - Wikipedia', 'language': 'en'}, page_content='No\\n\\nYes\\n\\nCommercial\\n\\nStock market data\\n\\nhttps://python.langchain.com/docs/integrations/tools/polygon\\n\\n\\nPubMed\\n\\nNo\\n\\nNo\\n\\nOpen  source\\n\\nBiomedical  literature'),\n",
       " Document(metadata={'source': 'https://en.wikipedia.org/wiki/LangChain', 'title': 'LangChain - Wikipedia', 'language': 'en'}, page_content='No\\n\\nNo\\n\\nOpen  source\\n\\nBiomedical  literature\\n\\nhttps://python.langchain.com/docs/integrations/tools/pubmed\\n\\n\\nPython REPL\\n\\nNo\\n\\nNo\\n\\nOpen  source\\n\\nPython shell'),\n",
       " Document(metadata={'source': 'https://en.wikipedia.org/wiki/LangChain', 'title': 'LangChain - Wikipedia', 'language': 'en'}, page_content='Python REPL\\n\\nNo\\n\\nNo\\n\\nOpen  source\\n\\nPython shell\\n\\nhttps://python.langchain.com/docs/integrations/tools/python\\n\\n\\nReddit Search\\n\\nNo\\n\\nNo\\n\\nOpen  source\\n\\nReddit search'),\n",
       " Document(metadata={'source': 'https://en.wikipedia.org/wiki/LangChain', 'title': 'LangChain - Wikipedia', 'language': 'en'}, page_content='No\\n\\nNo\\n\\nOpen  source\\n\\nReddit search\\n\\nhttps://python.langchain.com/docs/integrations/tools/reddit_search\\n\\n\\nRequests\\n\\nNo\\n\\nNo\\n\\nOpen  source\\n\\nHTTP requests'),\n",
       " Document(metadata={'source': 'https://en.wikipedia.org/wiki/LangChain', 'title': 'LangChain - Wikipedia', 'language': 'en'}, page_content='Requests\\n\\nNo\\n\\nNo\\n\\nOpen  source\\n\\nHTTP requests\\n\\nhttps://python.langchain.com/docs/integrations/tools/requests\\n\\n\\nSceneXplain\\n\\nNo\\n\\nNo\\n\\nOpen  source\\n\\nModel explanations'),\n",
       " Document(metadata={'source': 'https://en.wikipedia.org/wiki/LangChain', 'title': 'LangChain - Wikipedia', 'language': 'en'}, page_content='No\\n\\nNo\\n\\nOpen  source\\n\\nModel explanations\\n\\nhttps://python.langchain.com/docs/integrations/tools/sceneXplain\\n\\n\\nSearch\\n\\nNo\\n\\nNo\\n\\nOpen  source\\n\\nQuery various search services'),\n",
       " Document(metadata={'source': 'https://en.wikipedia.org/wiki/LangChain', 'title': 'LangChain - Wikipedia', 'language': 'en'}, page_content='No\\n\\nOpen  source\\n\\nQuery various search services\\n\\nhttps://python.langchain.com/docs/integrations/tools/search_tools\\n\\n\\nSearchApi\\n\\nNo\\n\\nYes\\n\\nCommercial\\n\\nQuery various search services'),\n",
       " Document(metadata={'source': 'https://en.wikipedia.org/wiki/LangChain', 'title': 'LangChain - Wikipedia', 'language': 'en'}, page_content='Yes\\n\\nCommercial\\n\\nQuery various search services\\n\\nhttps://python.langchain.com/docs/integrations/tools/searchapi\\n\\n\\nSearxNG\\n\\nNo\\n\\nNo\\n\\nOpen  source\\n\\nPrivacy-focused  search'),\n",
       " Document(metadata={'source': 'https://en.wikipedia.org/wiki/LangChain', 'title': 'LangChain - Wikipedia', 'language': 'en'}, page_content='No\\n\\nNo\\n\\nOpen  source\\n\\nPrivacy-focused  search\\n\\nhttps://python.langchain.com/docs/integrations/tools/searx_search\\n\\n\\nSemantic Scholar API\\n\\nNo\\n\\nNo\\n\\nOpen  source\\n\\nAcademic  paper search'),\n",
       " Document(metadata={'source': 'https://en.wikipedia.org/wiki/LangChain', 'title': 'LangChain - Wikipedia', 'language': 'en'}, page_content='No\\n\\nNo\\n\\nOpen  source\\n\\nAcademic  paper search\\n\\nhttps://python.langchain.com/docs/integrations/tools/semanticscholar\\n\\n\\nSerpAPI\\n\\nNo\\n\\nYes\\n\\nCommercial\\n\\nSearch engine results page scraping'),\n",
       " Document(metadata={'source': 'https://en.wikipedia.org/wiki/LangChain', 'title': 'LangChain - Wikipedia', 'language': 'en'}, page_content='Commercial\\n\\nSearch engine results page scraping\\n\\nhttps://python.langchain.com/docs/integrations/tools/serpapi\\n\\n\\nStackExchange\\n\\nNo\\n\\nNo\\n\\nOpen  source\\n\\nStack  Exchange access'),\n",
       " Document(metadata={'source': 'https://en.wikipedia.org/wiki/LangChain', 'title': 'LangChain - Wikipedia', 'language': 'en'}, page_content='No\\n\\nNo\\n\\nOpen  source\\n\\nStack  Exchange access\\n\\nhttps://python.langchain.com/docs/integrations/tools/stackexchange\\n\\n\\nTavily Search\\n\\nNo\\n\\nYes\\n\\nCommercial\\n\\nQuestion  answering'),\n",
       " Document(metadata={'source': 'https://en.wikipedia.org/wiki/LangChain', 'title': 'LangChain - Wikipedia', 'language': 'en'}, page_content='No\\n\\nYes\\n\\nCommercial\\n\\nQuestion  answering\\n\\nhttps://python.langchain.com/docs/integrations/tools/tavily_search\\n\\n\\nTwilio\\n\\nNo\\n\\nYes\\n\\nCommercial\\n\\nCommunication  APIs'),\n",
       " Document(metadata={'source': 'https://en.wikipedia.org/wiki/LangChain', 'title': 'LangChain - Wikipedia', 'language': 'en'}, page_content='No\\n\\nYes\\n\\nCommercial\\n\\nCommunication  APIs\\n\\nhttps://python.langchain.com/docs/integrations/tools/twilio\\n\\n\\nWikidata\\n\\nNo\\n\\nNo\\n\\nOpen  source\\n\\nStructured  data access'),\n",
       " Document(metadata={'source': 'https://en.wikipedia.org/wiki/LangChain', 'title': 'LangChain - Wikipedia', 'language': 'en'}, page_content='No\\n\\nNo\\n\\nOpen  source\\n\\nStructured  data access\\n\\nhttps://python.langchain.com/docs/integrations/tools/wikidata\\n\\n\\nWikipedia\\n\\nNo\\n\\nNo\\n\\nOpen  source\\n\\nWikipedia  access'),\n",
       " Document(metadata={'source': 'https://en.wikipedia.org/wiki/LangChain', 'title': 'LangChain - Wikipedia', 'language': 'en'}, page_content='No\\n\\nNo\\n\\nOpen  source\\n\\nWikipedia  access\\n\\nhttps://python.langchain.com/docs/integrations/tools/wikipedia\\n\\n\\nWolfram Alpha\\n\\nNo\\n\\nYes\\n\\nProprietary\\n\\nComputational  knowledge'),\n",
       " Document(metadata={'source': 'https://en.wikipedia.org/wiki/LangChain', 'title': 'LangChain - Wikipedia', 'language': 'en'}, page_content='No\\n\\nYes\\n\\nProprietary\\n\\nComputational  knowledge\\n\\nhttps://python.langchain.com/docs/integrations/tools/wolfram_alpha\\n\\n\\nYahoo Finance News\\n\\nNo\\n\\nYes\\n\\nCommercial\\n\\nFinancial news'),\n",
       " Document(metadata={'source': 'https://en.wikipedia.org/wiki/LangChain', 'title': 'LangChain - Wikipedia', 'language': 'en'}, page_content='No\\n\\nYes\\n\\nCommercial\\n\\nFinancial news\\n\\nhttps://python.langchain.com/docs/integrations/tools/yahoo_finance_news\\n\\n\\nYoutube\\n\\nNo\\n\\nYes\\n\\nCommercial\\n\\nYouTube  access'),\n",
       " Document(metadata={'source': 'https://en.wikipedia.org/wiki/LangChain', 'title': 'LangChain - Wikipedia', 'language': 'en'}, page_content='Youtube\\n\\nNo\\n\\nYes\\n\\nCommercial\\n\\nYouTube  access\\n\\nhttps://python.langchain.com/docs/integrations/tools/youtube\\n\\n\\nZapier Natural Language Actions\\n\\nNo\\n\\nYes\\n\\nCommercial\\n\\nWorkflow  automation'),\n",
       " Document(metadata={'source': 'https://en.wikipedia.org/wiki/LangChain', 'title': 'LangChain - Wikipedia', 'language': 'en'}, page_content='No\\n\\nYes\\n\\nCommercial\\n\\nWorkflow  automation\\n\\nhttps://python.langchain.com/docs/integrations/tools/zapier\\n\\nReferences[edit]\\n\\n\\n^ \"Release 0.1.16\". 11 April 2024. Retrieved 23 April 2024.'),\n",
       " Document(metadata={'source': 'https://en.wikipedia.org/wiki/LangChain', 'title': 'LangChain - Wikipedia', 'language': 'en'}, page_content='^ Buniatyan, Davit (2023). \"Code Understanding Using LangChain\". Activeloop.\\n\\n^ Auffarth, Ben (2023). Generative AI with LangChain. Birmingham: Packt Publishing. p.\\xa083. ISBN\\xa09781835083468.'),\n",
       " Document(metadata={'source': 'https://en.wikipedia.org/wiki/LangChain', 'title': 'LangChain - Wikipedia', 'language': 'en'}, page_content='^ Palazzolo, Stephanie (2023-04-13). \"AI startup LangChain taps Sequoia to lead funding round at a valuation of at least $200 million\". Business Insider. Archived from the original on 2023-04-18.'),\n",
       " Document(metadata={'source': 'https://en.wikipedia.org/wiki/LangChain', 'title': 'LangChain - Wikipedia', 'language': 'en'}, page_content='Archived from the original on 2023-04-18. Retrieved 2023-04-18.'),\n",
       " Document(metadata={'source': 'https://en.wikipedia.org/wiki/LangChain', 'title': 'LangChain - Wikipedia', 'language': 'en'}, page_content='^ Griffith, Erin; Metz, Cade (2023-03-14). \"\\'Let 1,000 Flowers Bloom\\': A.I. Funding Frenzy Escalates\". The New York Times. ISSN\\xa00362-4331. Archived from the original on 2023-04-18. Retrieved'),\n",
       " Document(metadata={'source': 'https://en.wikipedia.org/wiki/LangChain', 'title': 'LangChain - Wikipedia', 'language': 'en'}, page_content='from the original on 2023-04-18. Retrieved 2023-04-18.'),\n",
       " Document(metadata={'source': 'https://en.wikipedia.org/wiki/LangChain', 'title': 'LangChain - Wikipedia', 'language': 'en'}, page_content='^ Mansurova, Mariya (2023-10-30). \"Topic Modelling in production: Leveraging LangChain to move from ad-hoc Jupyter Notebooks to production modular service\". towardsdatascience.com. Retrieved'),\n",
       " Document(metadata={'source': 'https://en.wikipedia.org/wiki/LangChain', 'title': 'LangChain - Wikipedia', 'language': 'en'}, page_content='service\". towardsdatascience.com. Retrieved 2024-07-08.'),\n",
       " Document(metadata={'source': 'https://en.wikipedia.org/wiki/LangChain', 'title': 'LangChain - Wikipedia', 'language': 'en'}, page_content='^ \"LangChain Expression Language\". langchain.dev. 2023-08-01. Retrieved 2024-07-08.'),\n",
       " Document(metadata={'source': 'https://en.wikipedia.org/wiki/LangChain', 'title': 'LangChain - Wikipedia', 'language': 'en'}, page_content='^ \"Introducing LangServe, the best way to deploy your LangChains\". LangChain Blog. 2023-10-12. Retrieved 2023-10-17.\\n\\n^ \"Chatbots | 🦜️🔗 Langchain\". python.langchain.com. Retrieved 2023-11-26.'),\n",
       " Document(metadata={'source': 'https://en.wikipedia.org/wiki/LangChain', 'title': 'LangChain - Wikipedia', 'language': 'en'}, page_content='^ \"Retrieval-augmented generation (RAG) | 🦜️🔗 Langchain\". python.langchain.com. Retrieved 2023-11-26.\\n\\n^ \"Summarization | 🦜️🔗 Langchain\". python.langchain.com. Retrieved 2023-11-26.'),\n",
       " Document(metadata={'source': 'https://en.wikipedia.org/wiki/LangChain', 'title': 'LangChain - Wikipedia', 'language': 'en'}, page_content='^ \"Synthetic data generation | 🦜️🔗 Langchain\". python.langchain.com. Retrieved 2023-11-26.'),\n",
       " Document(metadata={'source': 'https://en.wikipedia.org/wiki/LangChain', 'title': 'LangChain - Wikipedia', 'language': 'en'}, page_content='^ \"Azure Cognitive Search and LangChain: A Seamless Integration for Enhanced Vector Search Capabilities\". TECHCOMMUNITY.MICROSOFT.COM. Retrieved 2024-08-31.'),\n",
       " Document(metadata={'source': 'https://en.wikipedia.org/wiki/LangChain', 'title': 'LangChain - Wikipedia', 'language': 'en'}, page_content='^ \"Best Alternative AI Content Strategies and LLM Frameworks\". Medium. 2024-08-31. Retrieved 2024-08-31.\\n\\n^ \"Milvus — LangChain\". python.langchain.com. Retrieved 2023-10-29.'),\n",
       " Document(metadata={'source': 'https://en.wikipedia.org/wiki/LangChain', 'title': 'LangChain - Wikipedia', 'language': 'en'}, page_content='^ \"Weaviate\". python.langchain.com. Retrieved 2024-01-17.'),\n",
       " Document(metadata={'source': 'https://en.wikipedia.org/wiki/LangChain', 'title': 'LangChain - Wikipedia', 'language': 'en'}, page_content='^ Hug, Daniel Patrick (2023-03-08). \"Hierarchical topic tree of LangChain\\'s integrations\" (PDF). GitHub. Archived from the original on 2023-04-29. Retrieved 2023-04-18.'),\n",
       " Document(metadata={'source': 'https://en.wikipedia.org/wiki/LangChain', 'title': 'LangChain - Wikipedia', 'language': 'en'}, page_content='^ \"Document Loaders — LangChain 0.0.142\". python.langchain.com. Archived from the original on 2023-04-18. Retrieved 2023-04-18.\\n\\n\\nExternal links[edit]\\n\\n\\nLangChain  at Wikipedia\\'s sister projects'),\n",
       " Document(metadata={'source': 'https://en.wikipedia.org/wiki/LangChain', 'title': 'LangChain - Wikipedia', 'language': 'en'}, page_content=\"LangChain  at Wikipedia's sister projects\\n\\nMedia from CommonsData from Wikidata\"),\n",
       " Document(metadata={'source': 'https://en.wikipedia.org/wiki/LangChain', 'title': 'LangChain - Wikipedia', 'language': 'en'}, page_content='Official website\\nDiscord server support hub\\nLangchain-ai on GitHub\\nvteOpenAIProductsChatbots\\nChatGPT\\nin education\\nGPT Store\\nDALL-E\\nSearchGPT\\nSora\\nWhisper\\nGitHub Copilot\\nFoundation models'),\n",
       " Document(metadata={'source': 'https://en.wikipedia.org/wiki/LangChain', 'title': 'LangChain - Wikipedia', 'language': 'en'}, page_content='Sora\\nWhisper\\nGitHub Copilot\\nFoundation models\\nOpenAI Codex\\nGenerative pre-trained transformer\\nGPT-1\\nGPT-2\\nGPT-3\\nGPT-4\\nGPT-4o\\nGPT-4.5\\no1\\no3\\nAI agents\\nDeep Research\\nOperator'),\n",
       " Document(metadata={'source': 'https://en.wikipedia.org/wiki/LangChain', 'title': 'LangChain - Wikipedia', 'language': 'en'}, page_content='GPT-4.5\\no1\\no3\\nAI agents\\nDeep Research\\nOperator\\nPeopleSenior managementCurrent\\nSam Altman\\nremoval\\nGreg Brockman\\nSarah Friar\\nScott Schools\\nFormer\\nMira Murati\\nEmmett Shear\\nBoard of directorsCurrent'),\n",
       " Document(metadata={'source': 'https://en.wikipedia.org/wiki/LangChain', 'title': 'LangChain - Wikipedia', 'language': 'en'}, page_content=\"Emmett Shear\\nBoard of directorsCurrent\\nSam Altman\\nAdam D'Angelo\\nSue Desmond-Hellmann\\nPaul Nakasone\\nAdebayo Ogunlesi\\nNicole Seligman\\nFidji Simo\\nLawrence Summers\\nBret Taylor (chair)\"),\n",
       " Document(metadata={'source': 'https://en.wikipedia.org/wiki/LangChain', 'title': 'LangChain - Wikipedia', 'language': 'en'}, page_content='Fidji Simo\\nLawrence Summers\\nBret Taylor (chair)\\nJakub Pachocki (chief scientist)\\nFormer\\nGreg Brockman (2017–2023)\\nReid Hoffman (2019–2023)\\nWill Hurd (2021–2023)\\nHolden Karnofsky (2017–2021)'),\n",
       " Document(metadata={'source': 'https://en.wikipedia.org/wiki/LangChain', 'title': 'LangChain - Wikipedia', 'language': 'en'}, page_content='Holden Karnofsky (2017–2021)\\nElon Musk (2015–2018)\\nIlya Sutskever (2017–2023)\\nHelen Toner (2021–2023)\\nShivon Zilis (2019–2023)\\nJoint ventures\\nStargate LLC\\nRelated\\nApple Intelligence\\nAI Dungeon'),\n",
       " Document(metadata={'source': 'https://en.wikipedia.org/wiki/LangChain', 'title': 'LangChain - Wikipedia', 'language': 'en'}, page_content='Related\\nApple Intelligence\\nAI Dungeon\\nAutoGPT\\n\"Deep Learning\"\\nLangChain\\nMicrosoft Copilot\\nOpenAI Five\\nTransformer'),\n",
       " Document(metadata={'source': 'https://en.wikipedia.org/wiki/LangChain', 'title': 'LangChain - Wikipedia', 'language': 'en'}, page_content='Category'),\n",
       " Document(metadata={'source': 'https://en.wikipedia.org/wiki/LangChain', 'title': 'LangChain - Wikipedia', 'language': 'en'}, page_content='vteDifferentiable computingGeneral\\nDifferentiable programming\\nInformation geometry\\nStatistical manifold\\nAutomatic differentiation\\nNeuromorphic computing\\nPattern recognition\\nRicci calculus'),\n",
       " Document(metadata={'source': 'https://en.wikipedia.org/wiki/LangChain', 'title': 'LangChain - Wikipedia', 'language': 'en'}, page_content='Pattern recognition\\nRicci calculus\\nComputational learning theory\\nInductive bias\\nHardware\\nIPU\\nTPU\\nVPU\\nMemristor\\nSpiNNaker\\nSoftware libraries\\nTensorFlow\\nPyTorch\\nKeras\\nscikit-learn\\nTheano\\nJAX\\nFlux.jl'),\n",
       " Document(metadata={'source': 'https://en.wikipedia.org/wiki/LangChain', 'title': 'LangChain - Wikipedia', 'language': 'en'}, page_content='PyTorch\\nKeras\\nscikit-learn\\nTheano\\nJAX\\nFlux.jl\\nMindSpore'),\n",
       " Document(metadata={'source': 'https://en.wikipedia.org/wiki/LangChain', 'title': 'LangChain - Wikipedia', 'language': 'en'}, page_content='Portals\\nComputer programming\\nTechnology'),\n",
       " Document(metadata={'source': 'https://en.wikipedia.org/wiki/LangChain', 'title': 'LangChain - Wikipedia', 'language': 'en'}, page_content='Retrieved from \"https://en.wikipedia.org/w/index.php?title=LangChain&oldid=1248303543\"'),\n",
       " Document(metadata={'source': 'https://en.wikipedia.org/wiki/LangChain', 'title': 'LangChain - Wikipedia', 'language': 'en'}, page_content='Categories: Artificial intelligenceLarge language modelsSoftware frameworks2022 softwareHidden categories: Articles with short descriptionShort description matches WikidataPages using Sister project'),\n",
       " Document(metadata={'source': 'https://en.wikipedia.org/wiki/LangChain', 'title': 'LangChain - Wikipedia', 'language': 'en'}, page_content='matches WikidataPages using Sister project links with hidden wikidata'),\n",
       " Document(metadata={'source': 'https://en.wikipedia.org/wiki/LangChain', 'title': 'LangChain - Wikipedia', 'language': 'en'}, page_content='This page was last edited on 28 September 2024, at 19:36\\xa0(UTC).\\nText is available under the Creative Commons Attribution-ShareAlike 4.0 License;'),\n",
       " Document(metadata={'source': 'https://en.wikipedia.org/wiki/LangChain', 'title': 'LangChain - Wikipedia', 'language': 'en'}, page_content='additional terms may apply. By using this site, you agree to the Terms of Use and Privacy Policy. Wikipedia® is a registered trademark of the Wikimedia Foundation, Inc., a non-profit organization.'),\n",
       " Document(metadata={'source': 'https://en.wikipedia.org/wiki/LangChain', 'title': 'LangChain - Wikipedia', 'language': 'en'}, page_content='Privacy policy\\nAbout Wikipedia\\nDisclaimers\\nContact Wikipedia\\nCode of Conduct\\nDevelopers\\nStatistics\\nCookie statement\\nMobile view\\n\\n\\n\\n\\n\\n\\n\\n\\n\\n\\n\\n\\n\\n\\nSearch\\n\\n\\n\\n\\n\\n\\n\\n\\n\\n\\n\\n\\n\\nSearch'),\n",
       " Document(metadata={'source': 'https://en.wikipedia.org/wiki/LangChain', 'title': 'LangChain - Wikipedia', 'language': 'en'}, page_content='Search\\n\\n\\n\\n\\n\\n\\n\\n\\n\\n\\n\\n\\n\\nSearch\\n\\n\\n\\n\\n\\n\\n\\n\\n\\nToggle the table of contents\\n\\n\\n\\n\\n\\n\\n\\nLangChain\\n\\n\\n\\n\\n\\n\\n\\n\\n\\n\\n\\n\\n\\n\\n\\n\\n\\n\\n\\n\\n\\n\\n\\n\\n\\n\\n\\n\\n10 languages\\n\\n\\nAdd topic')]"
      ]
     },
     "execution_count": 4,
     "metadata": {},
     "output_type": "execute_result"
    }
   ],
   "source": [
    "from langchain.text_splitter import RecursiveCharacterTextSplitter\n",
    "splitter = RecursiveCharacterTextSplitter(chunk_size = 200, chunk_overlap = 50)\n",
    "splitted_docs = splitter.split_documents(docs)\n",
    "splitted_docs"
   ]
  },
  {
   "cell_type": "code",
   "execution_count": 5,
   "metadata": {},
   "outputs": [
    {
     "data": {
      "text/plain": [
       "129"
      ]
     },
     "execution_count": 5,
     "metadata": {},
     "output_type": "execute_result"
    }
   ],
   "source": [
    "len(splitted_docs)"
   ]
  },
  {
   "cell_type": "markdown",
   "metadata": {},
   "source": [
    "Initializing OpenAI Embeddings model"
   ]
  },
  {
   "cell_type": "code",
   "execution_count": 6,
   "metadata": {},
   "outputs": [
    {
     "data": {
      "text/plain": [
       "OpenAIEmbeddings(client=<openai.resources.embeddings.Embeddings object at 0x000001DABDB8E270>, async_client=<openai.resources.embeddings.AsyncEmbeddings object at 0x000001DABDC0A510>, model='text-embedding-3-large', dimensions=None, deployment='text-embedding-ada-002', openai_api_version=None, openai_api_base=None, openai_api_type=None, openai_proxy=None, embedding_ctx_length=8191, openai_api_key=SecretStr('**********'), openai_organization=None, allowed_special=None, disallowed_special=None, chunk_size=1000, max_retries=2, request_timeout=None, headers=None, tiktoken_enabled=True, tiktoken_model_name=None, show_progress_bar=False, model_kwargs={}, skip_empty=False, default_headers=None, default_query=None, retry_min_seconds=4, retry_max_seconds=20, http_client=None, http_async_client=None, check_embedding_ctx_length=True)"
      ]
     },
     "execution_count": 6,
     "metadata": {},
     "output_type": "execute_result"
    }
   ],
   "source": [
    "from langchain_openai.embeddings import OpenAIEmbeddings\n",
    "\n",
    "embeddings_model = OpenAIEmbeddings(model = \"text-embedding-3-large\")\n",
    "embeddings_model"
   ]
  },
  {
   "cell_type": "markdown",
   "metadata": {},
   "source": [
    "Storing the Embeddings in the FAISS database"
   ]
  },
  {
   "cell_type": "code",
   "execution_count": null,
   "metadata": {},
   "outputs": [],
   "source": [
    "from langchain.vectorstores import FAISS\n",
    "\n",
    "vectorDB = FAISS.from_documents(splitted_docs, embeddings_model)\n",
    "vectorDB  # This won't work since there is no credit balance in my open ai account"
   ]
  },
  {
   "cell_type": "markdown",
   "metadata": {},
   "source": [
    "VectorDB is converted to retriever (acts as an interface to the context vectors, responsible for optimized context \n",
    "                                    vector retrieval.)"
   ]
  },
  {
   "cell_type": "code",
   "execution_count": null,
   "metadata": {},
   "outputs": [],
   "source": [
    "vectorDB = vectorDB.as_retriever()\n",
    "vectorDB"
   ]
  },
  {
   "cell_type": "code",
   "execution_count": null,
   "metadata": {},
   "outputs": [],
   "source": [
    "query = \"Why Langchain is used?\"\n",
    "\n",
    "response = vectorDB.similarity_search(query)\n",
    "response\n"
   ]
  },
  {
   "cell_type": "markdown",
   "metadata": {},
   "source": [
    "Initializing the ChatOpenAI module"
   ]
  },
  {
   "cell_type": "code",
   "execution_count": null,
   "metadata": {},
   "outputs": [],
   "source": [
    "# This won't work since there is no credit balance in my open ai account\n",
    "\n",
    "from langchain_openai import ChatOpenAI\n",
    "llm = ChatOpenAI(model = \"gpt-4o\")"
   ]
  },
  {
   "cell_type": "markdown",
   "metadata": {},
   "source": [
    "Creating the Prompt template"
   ]
  },
  {
   "cell_type": "code",
   "execution_count": null,
   "metadata": {},
   "outputs": [],
   "source": [
    "from langchain_core.prompts import ChatPromptTemplate\n",
    "from langchain.chains.combine_documents import create_stuff_documents_chain\n",
    "\n",
    "prompt = ChatPromptTemplate.from_template(\n",
    "            \"Answer to the questions asked by the user\"\n",
    "            \"context: {context}\"\n",
    "            \"question: {question}\"\n",
    "            \"Answer: \"\n",
    ")\n",
    "\n",
    "document_chain = create_stuff_documents_chain(llm, prompt)"
   ]
  },
  {
   "cell_type": "markdown",
   "metadata": {},
   "source": [
    "Input & Output"
   ]
  },
  {
   "cell_type": "markdown",
   "metadata": {},
   "source": [
    "- Here the output is given as the chatgpt. Because the \"create_stuff_documents_chain\" contains chain such that\n",
    "  all the parsing related work is done within it."
   ]
  },
  {
   "cell_type": "code",
   "execution_count": null,
   "metadata": {},
   "outputs": [],
   "source": [
    "# from langchain_core.documents import Document\n",
    "# docs = Document([page_content = ])\n",
    "\n",
    "input_data = {\n",
    "    \"input\" : splitted_docs,\n",
    "    \"question\" : \"What is LangChain and how is it useful?\"\n",
    "}\n",
    "\n",
    "Output = document_chain.invoke(input_data)\n",
    "Output"
   ]
  },
  {
   "cell_type": "code",
   "execution_count": null,
   "metadata": {},
   "outputs": [],
   "source": []
  }
 ],
 "metadata": {
  "kernelspec": {
   "display_name": ".venv",
   "language": "python",
   "name": "python3"
  },
  "language_info": {
   "codemirror_mode": {
    "name": "ipython",
    "version": 3
   },
   "file_extension": ".py",
   "mimetype": "text/x-python",
   "name": "python",
   "nbconvert_exporter": "python",
   "pygments_lexer": "ipython3",
   "version": "3.13.2"
  }
 },
 "nbformat": 4,
 "nbformat_minor": 2
}
